{
 "cells": [
  {
   "cell_type": "code",
   "execution_count": 11,
   "metadata": {},
   "outputs": [
    {
     "name": "stdout",
     "output_type": "stream",
     "text": [
      "[[5 5 5 5 5]\n",
      " [5 5 5 5 5]\n",
      " [5 5 5 5 5]\n",
      " [5 5 5 5 5]\n",
      " [5 5 5 5 5]]\n"
     ]
    }
   ],
   "source": [
    "import numpy as np\n",
    "import matplotlib.pyplot as plt\n",
    "from numpy import random as rng\n",
    "import ising\n",
    "\n",
    "def normallattice(N, M, value=5):\n",
    "    np.ndarray((N, M))\n",
    "    return np.full((N, M), value)\n",
    "\n",
    "\n",
    "N= 5\n",
    "M= 5\n",
    "\n",
    "print(normallattice(N, M, value=5))"
   ]
  },
  {
   "cell_type": "code",
   "execution_count": 12,
   "metadata": {},
   "outputs": [
    {
     "name": "stdout",
     "output_type": "stream",
     "text": [
      "[[-1  1  1  1  1]\n",
      " [-1 -1  1  1 -1]\n",
      " [-1 -1 -1  1  1]\n",
      " [-1  1  1 -1 -1]\n",
      " [ 1 -1 -1  1 -1]]\n"
     ]
    }
   ],
   "source": [
    "def randomlattice(N, M):\n",
    "      np.ndarray((N, M))\n",
    "    \n",
    "      return 2* rng.randint(0, 2, (N, M))-1\n",
    "\n",
    "print(randomlattice(N, M))"
   ]
  },
  {
   "cell_type": "code",
   "execution_count": 13,
   "metadata": {},
   "outputs": [
    {
     "name": "stdout",
     "output_type": "stream",
     "text": [
      "None\n"
     ]
    },
    {
     "data": {
      "image/png": "[encoded data removed]",
      "text/plain": [
       "<Figure size 432x288 with 1 Axes>"
      ]
     },
     "metadata": {
      "needs_background": "light"
     },
     "output_type": "display_data"
    }
   ],
   "source": [
    "def plotlattice(randomlattice):\n",
    "    fig, ax = plt.subplots()\n",
    "    im = ax.imshow(randomlattice(N, M))\n",
    "    \n",
    "    plt.imshow(randomlattice(N,M))\n",
    "    \n",
    "print(plotlattice(randomlattice))\n",
    "    \n"
   ]
  },
  {
   "cell_type": "markdown",
   "metadata": {},
   "source": [
    "We now need two functions:\n",
    "\n",
    "    a function to randomly select one of the particles in the lattice and return its coordinates (i,j)\n",
    "\n",
    "\n",
    "a function to flip the spin of the particle pointed by the (i,j)\n",
    "indices and return the new lattice state.\n"
   ]
  },
  {
   "cell_type": "code",
   "execution_count": 194,
   "metadata": {},
   "outputs": [
    {
     "name": "stdout",
     "output_type": "stream",
     "text": [
      "0\n"
     ]
    }
   ],
   "source": [
    "#Selecting particles?\n",
    "def chooseparticle():\n",
    "    i=np.random.randint(0,N)\n",
    "    j=np.random.randint(O,M)\n",
    "    i_j=np.asarray((i,j))\n",
    "    return i_j\n",
    "    \n",
    "    print(chooseparticle(randomlattice(N, M), 0, 0))\n",
    "     \n",
    "    i=chooseparticle()[0]   \n",
    "    j=chooseparticle()[1]\n",
    "#Flipping\n",
    "def flipparticle(i,j):\n",
    "        flipparticle[i, j]=randomlattice[i, j]*-1\n",
    "        return randomlattice[i, j]\n",
    "    \n",
    "\n",
    "    \n",
    "        \n",
    "#Nearest Neighbors\n",
    "\n",
    "def neighborsSum(lattice, i, j):\n",
    "  \n",
    "    ip1 = (i + 1) % len(lattice)\n",
    "    im1 = (i - 1) % len(lattice)\n",
    "    jp1 = (j + 1) % len(lattice[0])\n",
    "    jm1 = (j - 1) % len(lattice[0])\n",
    "    return (lattice[ip1][j] + lattice[im1][j]\n",
    "            + lattice[i][jp1] + lattice[i][jm1])\n",
    "#lattice energy\n",
    "def localenergy(lattice, i, j):\n",
    "#     return 2 * lattice[i, j] * sum(neighborsSum(lattice, i, j))\n",
    "    return 2 * lattice[i, j] * neighborsSum(lattice, i, j)\n",
    "\n",
    "print(localenergy(randomlattice(N, M), 0, 0))\n",
    "\n",
    "def totalenergy(lattice, i, j):\n",
    "    Tenergy += localenergy(lattice, i, j)\n",
    "    \n",
    "    return Tenergy\n",
    "\n",
    "\n",
    "#I am not sure if this total energy is right? I tried to print and I keep getting errors. \n",
    "\n",
    "#magnetization\n",
    "def magnetization(lattice, i, j):\n",
    "    \n",
    "    mag = np.sum(randomlattice(N ,M))\n",
    "\n",
    "    return mag\n",
    "\n",
    "\n",
    "    \n",
    "#magnetizationperspin\n",
    "\n",
    "spins='s'\n",
    "\n",
    "def magperspin(lattice, i, j):\n",
    "    \n",
    "    mps = magnetization(lattice)/(N*M)\n",
    "\n",
    "    return mps\n",
    "\n",
    "\n",
    "\n",
    "\n",
    "\n",
    "\n"
   ]
  },
  {
   "cell_type": "code",
   "execution_count": null,
   "metadata": {},
   "outputs": [],
   "source": []
  },
  {
   "cell_type": "code",
   "execution_count": 201,
   "metadata": {},
   "outputs": [
    {
     "ename": "IndentationError",
     "evalue": "unexpected indent (<ipython-input-201-4bc6e94b059d>, line 53)",
     "output_type": "error",
     "traceback": [
      "\u001b[1;36m  File \u001b[1;32m\"<ipython-input-201-4bc6e94b059d>\"\u001b[1;36m, line \u001b[1;32m53\u001b[0m\n\u001b[1;33m    counted_spins = [lattice[icount, jcount]]\u001b[0m\n\u001b[1;37m    ^\u001b[0m\n\u001b[1;31mIndentationError\u001b[0m\u001b[1;31m:\u001b[0m unexpected indent\n"
     ]
    }
   ],
   "source": [
    "#Metropolis Attempt\n",
    "\n",
    "#Initial Config\n",
    "N=5\n",
    "M=5\n",
    "T=100\n",
    "\n",
    "Nsteps=10000\n",
    "#choosing random particles/monte carlo?\n",
    "\n",
    "for step in range(Nsteps):\n",
    "\n",
    "    i = np.random.randint(0, N-1)\n",
    "    j = np.random.randint(0, M-1)\n",
    "        \n",
    "\n",
    "\n",
    "lattice=randomlattice(N,M)\n",
    "spin=np.sum(lattice)\n",
    "\n",
    "#Calculating initial dE\n",
    "\n",
    "def deltaE(lattice, Nsteps, N, M, T):\n",
    "    return  2 * Nsteps* (N + M * T)*-1\n",
    "\n",
    "\n",
    "# Periodic Boundary Condition\n",
    "Nsteps= lattice[(i - 1) % N, j] + lattice[(i + 1) % M, j] + \\\n",
    "lattice[i, (j - 1) % N] + lattice[i, (j + 1) % M]\n",
    "\n",
    "#IfdE\n",
    "dE = deltaE(lattice[i, j], Nsteps, N, M, T)\n",
    "\n",
    "\n",
    "\n",
    "if dE < 0 or np.random.random() < np.exp(-dE/T):\n",
    "            lattice[i, j] = -lattice[i, j]\n",
    "            \n",
    "          \n",
    "         #spin is collected at every step\n",
    "            spin += 2*lattice[i, j]\n",
    "            \n",
    "            \n",
    "#randomnumergen\n",
    "\n",
    "\n",
    "count_spins = False,\n",
    "countij = [1,1],\n",
    "correlation=False,\n",
    "corr_ij=[0,0],\n",
    "corr_r=1\n",
    "\n",
    "icount, jcount = countij\n",
    "    counted_spins = [lattice[icount, jcount]]\n",
    "    counted_intervals = []\n",
    "    icorr, jcorr = corr_ij\n",
    "    Sis = []\n",
    "    SiSjs = []\n",
    "                \n",
    "                \n",
    "                \n",
    "\n",
    "                \n",
    "                \n",
    "                \n",
    "                \n",
    "if count_spins:\n",
    "    ispin = lattice[icount, jcount]\n",
    "if ispin != counted_spins[-1]:\n",
    "                counted_spins.append(ispin)\n",
    "                counted_interval = step - sum(counted_intervals)\n",
    "                counted_intervals.append(counted_interval)\n",
    "if correlation:\n",
    "            Sn_corr = lattice[(icorr - corr_r) % n, jcorr] + lattice[(icorr + corr_r) % n, jcorr] + \\\n",
    "                      lattice[icorr, (jcorr - corr_r) % n] + lattice[icorr, (jcorr + corr_r) % n]\n",
    "            Si = lattice[icorr, jcorr]\n",
    "            SiSj = Si * Sn_corr / 4.0\n",
    "            Sis.append(Si)\n",
    "            SiSjs.append(SiSj)\n",
    "            \n",
    "        spins.append(spin)\n",
    "\n",
    "\n",
    "if correlation:\n",
    "        return Sis, SiSjs\n",
    "    \n",
    "if count_spins:\n",
    "        return counted_spins, counted_intervals\n",
    "        \n",
    "return lattice, Nsteps, spin\n",
    "    \n",
    "\n",
    "            \n",
    "\n",
    "    \n"
   ]
  },
  {
   "cell_type": "code",
   "execution_count": 197,
   "metadata": {},
   "outputs": [
    {
     "ename": "SyntaxError",
     "evalue": "'return' outside function (<ipython-input-197-58869ef68e1e>, line 8)",
     "output_type": "error",
     "traceback": [
      "\u001b[1;36m  File \u001b[1;32m\"<ipython-input-197-58869ef68e1e>\"\u001b[1;36m, line \u001b[1;32m8\u001b[0m\n\u001b[1;33m    return(Tenergy)\u001b[0m\n\u001b[1;37m    ^\u001b[0m\n\u001b[1;31mSyntaxError\u001b[0m\u001b[1;31m:\u001b[0m 'return' outside function\n"
     ]
    }
   ],
   "source": [
    "    #Storage just for me\n",
    "    for i in range(lattice):\n",
    "        for j in range(lattice):\n",
    "            localenergy = lattice[i,j]\n",
    "            te = lattice[(i+1)%N, j] + lattice[i,(j+1)%N] + lattice[(i-1)%N, j] + lattice[i,(j-1)%N]\n",
    "            Tenergy += -te*localenergy\n",
    "            \n",
    "            return(Tenergy)"
   ]
  },
  {
   "cell_type": "code",
   "execution_count": 223,
   "metadata": {},
   "outputs": [
    {
     "ename": "TypeError",
     "evalue": "unsupported operand type(s) for +: 'int' and 'str'",
     "output_type": "error",
     "traceback": [
      "\u001b[1;31m---------------------------------------------------------------------------\u001b[0m",
      "\u001b[1;31mTypeError\u001b[0m                                 Traceback (most recent call last)",
      "\u001b[1;32m<ipython-input-223-1c73c0423e16>\u001b[0m in \u001b[0;36m<module>\u001b[1;34m()\u001b[0m\n\u001b[0;32m     12\u001b[0m \u001b[1;33m\u001b[0m\u001b[0m\n\u001b[0;32m     13\u001b[0m \u001b[1;31m#Magnetization\u001b[0m\u001b[1;33m\u001b[0m\u001b[1;33m\u001b[0m\u001b[0m\n\u001b[1;32m---> 14\u001b[1;33m \u001b[0mmag\u001b[0m\u001b[1;33m[\u001b[0m\u001b[0mNsteps\u001b[0m\u001b[1;33m]\u001b[0m \u001b[1;33m=\u001b[0m \u001b[0mabs\u001b[0m\u001b[1;33m(\u001b[0m\u001b[0msum\u001b[0m\u001b[1;33m(\u001b[0m\u001b[0msum\u001b[0m\u001b[1;33m(\u001b[0m\u001b[0mspins\u001b[0m\u001b[1;33m)\u001b[0m\u001b[1;33m)\u001b[0m\u001b[1;33m)\u001b[0m \u001b[1;33m/\u001b[0m \u001b[1;33m(\u001b[0m\u001b[0mlattice\u001b[0m\u001b[1;33m(\u001b[0m\u001b[0mi\u001b[0m\u001b[1;33m,\u001b[0m \u001b[0mj\u001b[0m\u001b[1;33m)\u001b[0m \u001b[1;33m**\u001b[0m \u001b[1;36m2\u001b[0m\u001b[1;33m)\u001b[0m\u001b[1;33m\u001b[0m\u001b[0m\n\u001b[0m\u001b[0;32m     15\u001b[0m \u001b[1;33m\u001b[0m\u001b[0m\n\u001b[0;32m     16\u001b[0m             \u001b[1;31m#Energy\u001b[0m\u001b[1;33m\u001b[0m\u001b[1;33m\u001b[0m\u001b[0m\n",
      "\u001b[1;31mTypeError\u001b[0m: unsupported operand type(s) for +: 'int' and 'str'"
     ]
    }
   ],
   "source": [
    "#7, Thermodynamic Variables\n",
    "\n",
    "Temperature   = np.zeros((N, M), dtype=np.float64)\n",
    "Energy        = np.zeros((N, M), dtype=np.float64)\n",
    "Magnetization = np.zeros((N, M), dtype=np.float64)\n",
    "SpecificHeat  = np.zeros((N, M), dtype=np.float64)\n",
    "Suseptibility = np.zeros((N, M), dtype=np.float64)\n",
    "Spin          = np.zeros((N+2,M+2), dtype=np.int32)\n",
    "\n",
    "\n",
    "\n",
    "\n",
    "#Magnetization\n",
    "mag[Nsteps] = abs(sum(sum(spins))) / (lattice(i, j) ** 2)\n",
    "\n",
    "            #Energy\n",
    "Energy[Nsteps] = energy(spins,lattice,i,j)/ (lattice ** 2)\n",
    "\n",
    "            #Specific Heat\n",
    "e0 = e0 + energy(spins,lattice,i,j)               \n",
    "e1 = e1 + energy(spins,lattice,i,j) *energy(spins,lattice,i,j)\n",
    "spec[Nsteps]=((e1/(Nsteps*lattice) - e0*e0/(Nsteps*Nsteps*lattice*lattice)) / (temperature * temperature))\n",
    "\n",
    "        #Printing the thermodynamic variables    \n",
    "\n",
    "print(temperature,sum(Energy[Nsteps:]) / spins, sum(mag[spins:]) / sweeps,sum(spec[Nsteps:]) / spins)\n",
    "\n",
    "\n",
    "#Temperature\n",
    "Temperature = np.linspace(1.0, 4, N, M)\n",
    "Beta = 1.0/Temperature  \n",
    "\n",
    "\n",
    "f = plt.figure(figsize=(18, 10), dpi=80, linewidth=3, facecolor='w', edgecolor='k');    \n",
    "\n",
    "sp =  f.add_subplot(2, 2, 1 );\n",
    "plt.plot(Temperature, Energy, 'o', color=\"#A60628\", label=' Energy');\n",
    "plt.xlabel(\"Temperature (T)\", fontsize=20);\n",
    "plt.ylabel(\"Energy \", fontsize=20);\n",
    "\n",
    "sp =  f.add_subplot(2, 2, 2 );\n",
    "plt.plot(Temperature, abs(Magnetization), '*', color=\"#348ABD\", label='Magnetization');\n",
    "plt.xlabel(\"Temperature (T)\", fontsize=20);\n",
    "plt.ylabel(\"Magnetization \", fontsize=20);\n",
    "\n",
    "\n",
    "sp =  f.add_subplot(2, 2, 3 );\n",
    "plt.plot(Temperature, SpecificHeat, 'd', color='black', label='Specific Heat');\n",
    "plt.xlabel(\"Temperature (T)\", fontsize=20);\n",
    "plt.ylabel(\"Specific Heat \", fontsize=20);\n",
    "\n",
    "\n",
    "sp =  f.add_subplot(2, 2, 4 );\n",
    "plt.plot(Temperature, Suseptibility, 's', label='Specific Heat');\n",
    "#plt.legend(loc='best', fontsize=15); \n",
    "plt.xlabel(\"Temperature (T)\", fontsize=20);\n",
    "plt.ylabel(\"Suseptibility\", fontsize=20);\n",
    "\n",
    "\n",
    "plt.show()\n"
   ]
  },
  {
   "cell_type": "markdown",
   "metadata": {},
   "source": [
    "\n",
    "I am not sure how to move on from here or where my error is, I believe it lies within an error in the monte carlo function or move. I did a lot of searching trying to figure out how to do these things, but I did try my best on this. \n"
   ]
  },
  {
   "cell_type": "code",
   "execution_count": null,
   "metadata": {},
   "outputs": [],
   "source": []
  }
 ],
 "metadata": {
  "kernelspec": {
   "display_name": "Python 3",
   "language": "python",
   "name": "python3"
  },
  "language_info": {
   "codemirror_mode": {
    "name": "ipython",
    "version": 3
   },
   "file_extension": ".py",
   "mimetype": "text/x-python",
   "name": "python",
   "nbconvert_exporter": "python",
   "pygments_lexer": "ipython3",
   "version": "3.7.0"
  }
 },
 "nbformat": 4,
 "nbformat_minor": 2
}
